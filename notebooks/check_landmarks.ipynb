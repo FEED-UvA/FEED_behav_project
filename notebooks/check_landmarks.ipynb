{
 "cells": [
  {
   "cell_type": "markdown",
   "metadata": {},
   "source": [
    "# Check landmarks"
   ]
  },
  {
   "cell_type": "code",
   "execution_count": 1,
   "metadata": {},
   "outputs": [],
   "source": [
    "import pickle\n",
    "import imageio\n",
    "import azure\n",
    "import numpy as np\n",
    "import matplotlib.pyplot as plt\n",
    "from glob import glob\n",
    "import azure\n",
    "%matplotlib inline"
   ]
  },
  {
   "cell_type": "code",
   "execution_count": 11,
   "metadata": {},
   "outputs": [
    {
     "data": {
      "text/plain": [
       "array([[[184.3, 321.6],\n",
       "        [225.5, 316.5],\n",
       "        [155.1, 307.2],\n",
       "        ...,\n",
       "        [303.1, 541.4],\n",
       "        [303. , 535.2],\n",
       "        [304.1, 515.7]],\n",
       "\n",
       "       [[187.1, 322.6],\n",
       "        [223.1, 315.5],\n",
       "        [160.1, 306.6],\n",
       "        ...,\n",
       "        [290.7, 546. ],\n",
       "        [294.9, 532.3],\n",
       "        [297.5, 517.8]],\n",
       "\n",
       "       [[191.3, 324.5],\n",
       "        [230. , 316.9],\n",
       "        [159.7, 305.1],\n",
       "        ...,\n",
       "        [298.6, 538.7],\n",
       "        [297.8, 534.7],\n",
       "        [299.8, 513.6]],\n",
       "\n",
       "       ...,\n",
       "\n",
       "       [[191.1, 320.8],\n",
       "        [226.2, 313.6],\n",
       "        [157.2, 306.9],\n",
       "        ...,\n",
       "        [298.9, 541.1],\n",
       "        [299.2, 532.7],\n",
       "        [300.8, 514.7]],\n",
       "\n",
       "       [[192.9, 325.3],\n",
       "        [229.9, 316.3],\n",
       "        [161.5, 308.8],\n",
       "        ...,\n",
       "        [294.4, 541.5],\n",
       "        [294.1, 529.2],\n",
       "        [294.4, 513.9]],\n",
       "\n",
       "       [[190.5, 321.9],\n",
       "        [225.5, 313.2],\n",
       "        [161.7, 306.9],\n",
       "        ...,\n",
       "        [302.1, 541.5],\n",
       "        [300. , 531.7],\n",
       "        [300.5, 515.2]]])"
      ]
     },
     "execution_count": 11,
     "metadata": {},
     "output_type": "execute_result"
    }
   ],
   "source": [
    "def load_landmarks(stim='id-1274_AU26-100_AU9-33', api='google'):\n",
    "\n",
    "    stims = sorted(glob(f'../../../FEED_stimulus_frames/{stim}/*/texmap/frame*.png'))\n",
    "    \n",
    "    # number of landmarks: 27 (azure), 34 (google)\n",
    "    n_lm = 27 if api == 'azure' else 34\n",
    "    xy = np.zeros((30, n_lm, 2))  # 30 frames\n",
    "    \n",
    "    frames = [str(i).zfill(2) for i in range(1, 31)]\n",
    "    for i, frame in enumerate(frames):\n",
    "        info = stims[i].replace('.png', f'_api-{api}_annotations.pkl')\n",
    "        with open(info, 'rb') as f_in:\n",
    "            info = pickle.load(f_in)\n",
    "        \n",
    "        if api == 'azure':\n",
    "            info = info[0].face_landmarks\n",
    "            ii = 0\n",
    "            for attr in dir(info):\n",
    "                this_attr = getattr(info, attr)                \n",
    "                if isinstance(this_attr, azure.cognitiveservices.vision.face.models._models_py3.Coordinate):\n",
    "                    xy[i, ii, 0] = this_attr.x\n",
    "                    xy[i, ii, 1] = this_attr.y\n",
    "                    ii += 1\n",
    "\n",
    "        elif api == 'google':\n",
    "            info = info.face_annotations[0]\n",
    "            for ii in range(len(info.landmarks)):\n",
    "                xy[i, ii, 0] = info.landmarks[ii].position.x\n",
    "                xy[i, ii, 1] = info.landmarks[ii].position.y\n",
    "        else:\n",
    "            raise ValueError(\"Choose api from 'google' and 'azure'.\")\n",
    "            \n",
    "    return stims, xy\n",
    "\n",
    "stims, xy = load_landmarks(api='azure')\n",
    "xy"
   ]
  },
  {
   "cell_type": "code",
   "execution_count": null,
   "metadata": {},
   "outputs": [],
   "source": [
    "def plot_face(imgs, landmarks, frame_nr=0):\n",
    "    img = imageio.imread(imgs[frame_nr])\n",
    "    plt.figure(figsize=(6, 8))\n",
    "    plt.imshow(img)\n",
    "    lm = landmarks[frame_nr, :, :]\n",
    "    for i in range(lm.shape[0]):\n",
    "        x, y = lm[i, :]\n",
    "        plt.plot([x, x], [y, y], marker='o')\n",
    "        \n",
    "    plt.show();"
   ]
  },
  {
   "cell_type": "code",
   "execution_count": null,
   "metadata": {},
   "outputs": [],
   "source": [
    "import ipywidgets\n",
    "from ipywidgets import interact, fixed\n",
    "\n",
    "slider = ipywidgets.IntSlider(min=0, max=29, step=1, value=0)\n",
    "interact(plot_face, frame_nr=slider, imgs=fixed(stims), landmarks=fixed(xy));"
   ]
  },
  {
   "cell_type": "code",
   "execution_count": null,
   "metadata": {},
   "outputs": [],
   "source": [
    "from scipy.ndimage import gaussian_filter\n",
    "xy_std = (xy  - xy.mean(axis=0)) / xy.std(axis=0)\n",
    "\n",
    "xy_filt = butter_bandpass_filter(data=xy_std[:, 0, :], lowcut=0.01, highcut=7, fs=30/1.25, order=5)\n",
    "plt.plot(xy_filt)"
   ]
  },
  {
   "cell_type": "code",
   "execution_count": null,
   "metadata": {},
   "outputs": [],
   "source": [
    "from scipy.signal import butter, lfilter\n",
    "\n",
    "\n",
    "def butter_bandpass(lowcut, highcut, fs, order=5):\n",
    "    nyq = 0.5 * fs\n",
    "    low = lowcut / nyq\n",
    "    high = highcut / nyq\n",
    "    b, a = butter(order, [low, high], btype='band')\n",
    "    return b, a\n",
    "\n",
    "\n",
    "def butter_bandpass_filter(data, lowcut, highcut, fs, order=5):\n",
    "    b, a = butter_bandpass(lowcut, highcut, fs, order=order)\n",
    "    y = lfilter(b, a, data, axis=0)\n",
    "    return y"
   ]
  },
  {
   "cell_type": "code",
   "execution_count": null,
   "metadata": {},
   "outputs": [],
   "source": [
    "from scipy.ndimage import gaussian_filter1d\n",
    "gaussian_filter1d?"
   ]
  }
 ],
 "metadata": {
  "kernelspec": {
   "display_name": "Python 3",
   "language": "python",
   "name": "python3"
  },
  "language_info": {
   "codemirror_mode": {
    "name": "ipython",
    "version": 3
   },
   "file_extension": ".py",
   "mimetype": "text/x-python",
   "name": "python",
   "nbconvert_exporter": "python",
   "pygments_lexer": "ipython3",
   "version": "3.7.3"
  }
 },
 "nbformat": 4,
 "nbformat_minor": 2
}
