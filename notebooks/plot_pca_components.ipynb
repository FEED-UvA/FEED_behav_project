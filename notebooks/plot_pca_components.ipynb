{
 "cells": [
  {
   "cell_type": "markdown",
   "metadata": {},
   "source": [
    "# Plot structure and PCA components"
   ]
  },
  {
   "cell_type": "code",
   "execution_count": null,
   "metadata": {},
   "outputs": [],
   "source": [
    "import numpy as np\n",
    "import plotly.graph_objects as go\n",
    "from plotly.subplots import make_subplots"
   ]
  },
  {
   "cell_type": "markdown",
   "metadata": {},
   "source": [
    "Load some information about meshes."
   ]
  },
  {
   "cell_type": "code",
   "execution_count": null,
   "metadata": {},
   "outputs": [],
   "source": [
    "with np.load('../data/vertices_stats.npz') as data:\n",
    "    geom = dict()\n",
    "    geom['mean'] = data['mean']\n",
    "    geom['std'] = data['std']\n",
    "    # Structure per face\n",
    "    geom['mean_face'] = data['mean_face']\n",
    "    geom['tri'] = np.load('../data/tris.npy') - 1"
   ]
  },
  {
   "cell_type": "code",
   "execution_count": null,
   "metadata": {},
   "outputs": [],
   "source": [
    "def plot_face(v, tri, overlay=None, multiple_v=False, multiple_o=False):\n",
    "\n",
    "    if overlay is None:\n",
    "        color = 'darkgray'\n",
    "        minn, maxx = None, None\n",
    "    else:\n",
    "        color = None\n",
    "        maxx = overlay.max()\n",
    "        minn = -maxx\n",
    "            \n",
    "    layout = go.Layout(\n",
    "        scene=dict(xaxis=dict(visible=False), yaxis=dict(visible=False), zaxis=dict(visible=False)),\n",
    "        scene_camera=dict(up=dict(x=0, y=0, z=1), center=dict(x=0, y=0, z=0), eye=dict(x=1.5, y=0, z=0))\n",
    "    )\n",
    "    \n",
    "    if multiple_v or multiple_o:\n",
    "        \n",
    "        n_plots = v.shape[-1] if multiple_v else overlay.shape[-1]\n",
    "        n_rows = int(np.ceil(n_plots / 5))\n",
    "        n_cols = min(5, n_plots)\n",
    "        specs = [[{'type': 'surface'}] * n_cols] * n_rows\n",
    "        fig = make_subplots(rows=n_rows, cols=n_cols,\n",
    "                            specs=specs,\n",
    "                            shared_xaxes=True, shared_yaxes=True)\n",
    "        #layout['scene_camera']['eye']['x'] = 1.5 + 0.75 * n_cols\n",
    "        for i in range(n_plots):\n",
    "            if multiple_o:\n",
    "                this_o = overlay[:, i]\n",
    "            else:\n",
    "                this_o = overlay\n",
    "\n",
    "            if multiple_v:\n",
    "                this_v = v[:, :, i]\n",
    "            else:\n",
    "                this_v = v\n",
    "\n",
    "            mesh = go.Mesh3d(\n",
    "                y=this_v[:, 0], z=this_v[:, 1], x=this_v[:, 2],\n",
    "                j=tri[:, 0], k=tri[:, 1], i=tri[:, 2],\n",
    "                intensity=this_o, colorscale='RdBu',\n",
    "                cmax=maxx, cmin=minn, reversescale=True,\n",
    "                color=color\n",
    "            )\n",
    "            row_idx = i // n_cols + 1\n",
    "            col_idx = i % n_cols + 1\n",
    "            fig.add_trace(mesh, row=row_idx, col=col_idx)        \n",
    "    else:\n",
    "        mesh = go.Mesh3d(\n",
    "            y=v[:, 0], z=v[:, 1], x=v[:, 2],\n",
    "            j=tri[:, 0], k=tri[:, 1], i=tri[:, 2],\n",
    "            intensity=overlay, colorscale='RdBu',\n",
    "            cmax=maxx, cmin=minn, reversescale=True,\n",
    "            color=color\n",
    "        )\n",
    "        fig = go.Figure(data=[mesh], layout=layout)\n",
    "\n",
    "    fig.update_scenes(layout['scene'])\n",
    "    \n",
    "    return fig"
   ]
  },
  {
   "cell_type": "markdown",
   "metadata": {},
   "source": [
    "How does the average face look like? We'll plot the average face with the standard deviation (across X, Y, Z directions summed) on top:"
   ]
  },
  {
   "cell_type": "code",
   "execution_count": null,
   "metadata": {},
   "outputs": [],
   "source": [
    "fig = plot_face(geom['mean'], geom['tri'], overlay=geom['std'].sum(axis=1))\n",
    "fig.show()"
   ]
  },
  {
   "cell_type": "markdown",
   "metadata": {},
   "source": [
    "Per face:"
   ]
  },
  {
   "cell_type": "code",
   "execution_count": null,
   "metadata": {},
   "outputs": [],
   "source": [
    "fig = plot_face(geom['mean_face'][:, :, :3], geom['tri'], multiple_v=True)\n",
    "fig.show()"
   ]
  },
  {
   "cell_type": "code",
   "execution_count": null,
   "metadata": {},
   "outputs": [],
   "source": [
    "with np.load('../models/featurespace-vertexmotionPCA_norm-n_weights.npz') as data:\n",
    "    mu, w = data['mu'], data['w']\n",
    "fig = plot_face(geom['mean'], geom['tri'], overlay=mu)\n",
    "fig.show()"
   ]
  },
  {
   "cell_type": "code",
   "execution_count": null,
   "metadata": {},
   "outputs": [],
   "source": [
    "with np.load('../models/featurespace-vertexmotionPCA_norm-n_weights.npz') as data:\n",
    "    mu, w = data['mu'], data['w']\n",
    "fig = plot_face(geom['mean'], geom['tri'], overlay=w.T[:, :5], multiple_o=True)\n",
    "fig.show()"
   ]
  },
  {
   "cell_type": "code",
   "execution_count": null,
   "metadata": {},
   "outputs": [],
   "source": [
    "with np.load('../models/featurespace-vertexmotionPCA_norm-y_weights.npz') as data:\n",
    "    mu, w = data['mu'], data['w']\n",
    "fig = plot_face(geom['mean'], geom['tri'], overlay=w.T[:, :5], multiple_o=True)\n",
    "fig.show()"
   ]
  },
  {
   "cell_type": "code",
   "execution_count": null,
   "metadata": {},
   "outputs": [],
   "source": [
    "with np.load('../models/featurespace-vertexPCA_frame-01_norm-n_weights.npz') as data:\n",
    "    mu, w = data['mu'], data['w']\n",
    "    w = w.reshape((50, 31049, 3))\n",
    "\n",
    "fig = plot_face(geom['mean'], geom['tri'], overlay=w[:5, :, 0].T, multiple_o=True)\n",
    "fig.show()"
   ]
  },
  {
   "cell_type": "code",
   "execution_count": null,
   "metadata": {},
   "outputs": [],
   "source": [
    "with np.load('../models/featurespace-vertexPCA_frame-15_norm-n_weights.npz') as data:\n",
    "    mu, w = data['mu'], data['w']\n",
    "    w = w.reshape((50, 31049, 3))\n",
    "    w = np.moveaxis(w, 0, 2)\n",
    "\n",
    "norm = np.sqrt((w ** 2).sum(axis=1))\n",
    "fig = plot_face(mu.reshape((31049, 3, 1)) + w[:, :, :5] * 1000, geom['tri'], overlay=norm,\n",
    "                multiple_v=True, multiple_o=True)\n",
    "fig.show()"
   ]
  },
  {
   "cell_type": "code",
   "execution_count": null,
   "metadata": {},
   "outputs": [],
   "source": [
    "with np.load('../models/featurespace-vertexPCA_frame-15_norm-y_weights.npz') as data:\n",
    "    mu, w = data['mu'], data['w']\n",
    "    w = w.reshape((50, 31049, 3))\n",
    "    w = np.moveaxis(w, 0, 2)\n",
    "\n",
    "norm = np.sqrt((w ** 2).sum(axis=1))\n",
    "fig = plot_face(mu.reshape((31049, 3, 1)) + w[:, :, :5] / geom['std'][..., None], geom['tri'], overlay=norm,\n",
    "                multiple_v=True, multiple_o=True)\n",
    "fig.show()"
   ]
  }
 ],
 "metadata": {
  "kernelspec": {
   "display_name": "Python 3",
   "language": "python",
   "name": "python3"
  },
  "language_info": {
   "codemirror_mode": {
    "name": "ipython",
    "version": 3
   },
   "file_extension": ".py",
   "mimetype": "text/x-python",
   "name": "python",
   "nbconvert_exporter": "python",
   "pygments_lexer": "ipython3",
   "version": "3.8.5"
  }
 },
 "nbformat": 4,
 "nbformat_minor": 4
}
